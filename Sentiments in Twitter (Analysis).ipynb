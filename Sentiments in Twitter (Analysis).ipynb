{
 "cells": [
  {
   "cell_type": "markdown",
   "metadata": {},
   "source": [
    "# [Classifying Twitter Sentiments through Supervise Learning ](https://www.kaggle.com/kazanova/sentiment140)"
   ]
  },
  {
   "cell_type": "markdown",
   "metadata": {},
   "source": [
    "**Introduction**\n",
    "\n",
    "Twitter is one of the most popular microblogging and social networking platforms for people around the world. This platform provides people the opportunity to communicate and interact via posts (aka \"tweets\"). Tweets are casual forms of texts and are limited to 140 characters.\n",
    "\n",
    "Tweets are used by different parties for varied reasons. For instance, consumers use Twitter to research products before purchasing them. Twitter information is used to analyze customer reviews and sentiments to make a better purchasing distance. Henceforth, sentiment analysis plays a vital part in our everyday life.\n",
    "\n",
    "For this project, I will use Twitter data to identify the positive and negative sentiments in making a purchasing decision. This will help us identify the patterns on how consumers make their purchasing decisions through sentiments on Twitter."
   ]
  },
  {
   "cell_type": "markdown",
   "metadata": {},
   "source": [
    "**Problem Statement:**\n",
    "\n",
    "The objective of this task is to detect positive sentiments in our dataset. For instance, tweets with a positive sentiment may mean that the customer is highly satisfied with the product. This information can be used to predict customer spending patterns for the company's future products. It would inherently help us determine revenue for our products. Therefore, my task in this project is to classify the good(positive) tweets from the bad(negative) ones. \n",
    "\n",
    "To start off the following assumptions have already been made during the initial phase of our data collection \n",
    "- Ignore neutral tweets \n",
    "- The parameters in our tweets are in English\n",
    "- Ignore emoticons to make the classification processess much simpler\n",
    "\n",
    "In addition to these assumptions, let us use the following binary terms to classify the our tweets. I believe that this would make our process more simplified:\n",
    "- **1** indicates a positive tweet\n",
    "- **0** indicates a negative tweet"
   ]
  },
  {
   "cell_type": "code",
   "execution_count": 1,
   "metadata": {},
   "outputs": [],
   "source": [
    "# Importing Packages\n",
    "%matplotlib inline\n",
    "import sys, os, random\n",
    "import nltk, re\n",
    "import time\n",
    "import tweepy \n",
    "import scipy\n",
    "import string\n",
    "import pandas as pd\n",
    "import numpy as np\n",
    "import utils\n",
    "import matplotlib.pyplot as plt\n",
    "import seaborn as sns\n",
    "import tweepy as tw\n",
    "from nltk.stem.porter import PorterStemmer\n",
    "from textblob import TextBlob \n",
    "from nltk.corpus import stopwords\n",
    "from nltk.stem.wordnet import WordNetLemmatizer\n",
    "\n",
    "import warnings\n",
    "warnings.filterwarnings('ignore')\n",
    "\n",
    "# preprocessing and feature extraction\n",
    "# bag of words scipy.sparse()\n",
    "from scipy.stats.mstats import winsorize\n",
    "from sklearn.feature_extraction.text import CountVectorizer, TfidfTransformer\n",
    "\n",
    "# Training the classifier\n",
    "from sklearn.pipeline import Pipeline # classifier to make the vectorizer => transformer => classifier easier \n",
    "from sklearn.model_selection import train_test_split\n",
    "\n",
    "# Classifiers for building models\n",
    "import statsmodels.api as sm\n",
    "from sklearn.svm import SVC\n",
    "from sklearn.linear_model import SGDClassifier\n",
    "from sklearn.naive_bayes import MultinomialNB\n",
    "from sklearn.ensemble import RandomForestClassifier\n",
    "from sklearn.linear_model import LinearRegression\n",
    "\n",
    "# Evaluation \n",
    "from sklearn.metrics import confusion_matrix, classification_report,accuracy_score\n",
    "from sklearn.model_selection import cross_val_score\n",
    "from sklearn.metrics import mean_absolute_error\n",
    "from statsmodels.tools.eval_measures import mse, rmse"
   ]
  },
  {
   "cell_type": "markdown",
   "metadata": {},
   "source": [
    "**Approach**\n",
    "\n",
    "I will be taking the following steps in analyzing the sentiments in our dataset:\n",
    "\n",
    "1. Read the Twitter dataset \n",
    "2. Initial Exploration\n",
    "3. Preprocessing and Data Cleaning \n",
    "4. Exploratory Analysis and Visualization\n",
    "4. Feature Extraction \n",
    "5. Creating models \n",
    "6. Evaluating models\n",
    "\n",
    "Let's dive into the insights of our dataset:"
   ]
  },
  {
   "cell_type": "markdown",
   "metadata": {},
   "source": [
    "## I. Reading the Twitter Dataset"
   ]
  },
  {
   "cell_type": "code",
   "execution_count": 2,
   "metadata": {
    "scrolled": false
   },
   "outputs": [
    {
     "data": {
      "text/html": [
       "<div>\n",
       "<style scoped>\n",
       "    .dataframe tbody tr th:only-of-type {\n",
       "        vertical-align: middle;\n",
       "    }\n",
       "\n",
       "    .dataframe tbody tr th {\n",
       "        vertical-align: top;\n",
       "    }\n",
       "\n",
       "    .dataframe thead th {\n",
       "        text-align: right;\n",
       "    }\n",
       "</style>\n",
       "<table border=\"1\" class=\"dataframe\">\n",
       "  <thead>\n",
       "    <tr style=\"text-align: right;\">\n",
       "      <th></th>\n",
       "      <th>sentiment</th>\n",
       "      <th>user_id</th>\n",
       "      <th>date</th>\n",
       "      <th>query</th>\n",
       "      <th>user</th>\n",
       "      <th>tweet</th>\n",
       "    </tr>\n",
       "  </thead>\n",
       "  <tbody>\n",
       "    <tr>\n",
       "      <td>0</td>\n",
       "      <td>0</td>\n",
       "      <td>1467810369</td>\n",
       "      <td>Mon Apr 06 22:19:45 PDT 2009</td>\n",
       "      <td>NO_QUERY</td>\n",
       "      <td>_TheSpecialOne_</td>\n",
       "      <td>@switchfoot http://twitpic.com/2y1zl - Awww, t...</td>\n",
       "    </tr>\n",
       "    <tr>\n",
       "      <td>1</td>\n",
       "      <td>0</td>\n",
       "      <td>1467810672</td>\n",
       "      <td>Mon Apr 06 22:19:49 PDT 2009</td>\n",
       "      <td>NO_QUERY</td>\n",
       "      <td>scotthamilton</td>\n",
       "      <td>is upset that he can't update his Facebook by ...</td>\n",
       "    </tr>\n",
       "    <tr>\n",
       "      <td>2</td>\n",
       "      <td>0</td>\n",
       "      <td>1467810917</td>\n",
       "      <td>Mon Apr 06 22:19:53 PDT 2009</td>\n",
       "      <td>NO_QUERY</td>\n",
       "      <td>mattycus</td>\n",
       "      <td>@Kenichan I dived many times for the ball. Man...</td>\n",
       "    </tr>\n",
       "    <tr>\n",
       "      <td>3</td>\n",
       "      <td>0</td>\n",
       "      <td>1467811184</td>\n",
       "      <td>Mon Apr 06 22:19:57 PDT 2009</td>\n",
       "      <td>NO_QUERY</td>\n",
       "      <td>ElleCTF</td>\n",
       "      <td>my whole body feels itchy and like its on fire</td>\n",
       "    </tr>\n",
       "    <tr>\n",
       "      <td>4</td>\n",
       "      <td>0</td>\n",
       "      <td>1467811193</td>\n",
       "      <td>Mon Apr 06 22:19:57 PDT 2009</td>\n",
       "      <td>NO_QUERY</td>\n",
       "      <td>Karoli</td>\n",
       "      <td>@nationwideclass no, it's not behaving at all....</td>\n",
       "    </tr>\n",
       "    <tr>\n",
       "      <td>5</td>\n",
       "      <td>0</td>\n",
       "      <td>1467811372</td>\n",
       "      <td>Mon Apr 06 22:20:00 PDT 2009</td>\n",
       "      <td>NO_QUERY</td>\n",
       "      <td>joy_wolf</td>\n",
       "      <td>@Kwesidei not the whole crew</td>\n",
       "    </tr>\n",
       "    <tr>\n",
       "      <td>6</td>\n",
       "      <td>0</td>\n",
       "      <td>1467811592</td>\n",
       "      <td>Mon Apr 06 22:20:03 PDT 2009</td>\n",
       "      <td>NO_QUERY</td>\n",
       "      <td>mybirch</td>\n",
       "      <td>Need a hug</td>\n",
       "    </tr>\n",
       "    <tr>\n",
       "      <td>7</td>\n",
       "      <td>0</td>\n",
       "      <td>1467811594</td>\n",
       "      <td>Mon Apr 06 22:20:03 PDT 2009</td>\n",
       "      <td>NO_QUERY</td>\n",
       "      <td>coZZ</td>\n",
       "      <td>@LOLTrish hey  long time no see! Yes.. Rains a...</td>\n",
       "    </tr>\n",
       "    <tr>\n",
       "      <td>8</td>\n",
       "      <td>0</td>\n",
       "      <td>1467811795</td>\n",
       "      <td>Mon Apr 06 22:20:05 PDT 2009</td>\n",
       "      <td>NO_QUERY</td>\n",
       "      <td>2Hood4Hollywood</td>\n",
       "      <td>@Tatiana_K nope they didn't have it</td>\n",
       "    </tr>\n",
       "    <tr>\n",
       "      <td>9</td>\n",
       "      <td>0</td>\n",
       "      <td>1467812025</td>\n",
       "      <td>Mon Apr 06 22:20:09 PDT 2009</td>\n",
       "      <td>NO_QUERY</td>\n",
       "      <td>mimismo</td>\n",
       "      <td>@twittera que me muera ?</td>\n",
       "    </tr>\n",
       "  </tbody>\n",
       "</table>\n",
       "</div>"
      ],
      "text/plain": [
       "   sentiment     user_id                          date     query  \\\n",
       "0          0  1467810369  Mon Apr 06 22:19:45 PDT 2009  NO_QUERY   \n",
       "1          0  1467810672  Mon Apr 06 22:19:49 PDT 2009  NO_QUERY   \n",
       "2          0  1467810917  Mon Apr 06 22:19:53 PDT 2009  NO_QUERY   \n",
       "3          0  1467811184  Mon Apr 06 22:19:57 PDT 2009  NO_QUERY   \n",
       "4          0  1467811193  Mon Apr 06 22:19:57 PDT 2009  NO_QUERY   \n",
       "5          0  1467811372  Mon Apr 06 22:20:00 PDT 2009  NO_QUERY   \n",
       "6          0  1467811592  Mon Apr 06 22:20:03 PDT 2009  NO_QUERY   \n",
       "7          0  1467811594  Mon Apr 06 22:20:03 PDT 2009  NO_QUERY   \n",
       "8          0  1467811795  Mon Apr 06 22:20:05 PDT 2009  NO_QUERY   \n",
       "9          0  1467812025  Mon Apr 06 22:20:09 PDT 2009  NO_QUERY   \n",
       "\n",
       "              user                                              tweet  \n",
       "0  _TheSpecialOne_  @switchfoot http://twitpic.com/2y1zl - Awww, t...  \n",
       "1    scotthamilton  is upset that he can't update his Facebook by ...  \n",
       "2         mattycus  @Kenichan I dived many times for the ball. Man...  \n",
       "3          ElleCTF    my whole body feels itchy and like its on fire   \n",
       "4           Karoli  @nationwideclass no, it's not behaving at all....  \n",
       "5         joy_wolf                      @Kwesidei not the whole crew   \n",
       "6          mybirch                                        Need a hug   \n",
       "7             coZZ  @LOLTrish hey  long time no see! Yes.. Rains a...  \n",
       "8  2Hood4Hollywood               @Tatiana_K nope they didn't have it   \n",
       "9          mimismo                          @twittera que me muera ?   "
      ]
     },
     "execution_count": 2,
     "metadata": {},
     "output_type": "execute_result"
    }
   ],
   "source": [
    "file_name = \"/home/kaneeshadawood/train.csv\"\n",
    "\n",
    "# Loading data from the csv file. \n",
    "data = pd.read_csv(\"/home/kaneeshadawood/train.csv\", encoding='latin-1', header=None)\n",
    "  \n",
    "# Renaming columns\n",
    "data.columns = [\"sentiment\", \"user_id\", \"date\", \"query\", \"user\", \"tweet\"] \n",
    "data.head(10)"
   ]
  },
  {
   "cell_type": "markdown",
   "metadata": {},
   "source": [
    "**Content**\n",
    "\n",
    "I named the following columns to get a better understanding of our data fields:\n",
    "\n",
    "- sentiment: the polarity of the tweet (0 = negative, 2 = neutral, 4 = positive)\n",
    "- user_id: The id of the tweet ( 2087)\n",
    "- date: the date of the tweet (Sat May 16 23:58:44 UTC 2009)\n",
    "- query: The query (lyx). If there is no query, then this value is NO_QUERY.\n",
    "- user: the user that tweeted (robotickilldozr)\n",
    "- tweet: the text of the tweet (Lyx is cool)"
   ]
  },
  {
   "cell_type": "code",
   "execution_count": 3,
   "metadata": {},
   "outputs": [
    {
     "name": "stdout",
     "output_type": "stream",
     "text": [
      "<class 'pandas.core.frame.DataFrame'>\n",
      "RangeIndex: 1600000 entries, 0 to 1599999\n",
      "Data columns (total 6 columns):\n",
      "sentiment    1600000 non-null int64\n",
      "user_id      1600000 non-null int64\n",
      "date         1600000 non-null object\n",
      "query        1600000 non-null object\n",
      "user         1600000 non-null object\n",
      "tweet        1600000 non-null object\n",
      "dtypes: int64(2), object(4)\n",
      "memory usage: 73.2+ MB\n"
     ]
    }
   ],
   "source": [
    "# contents of the dataset\n",
    "data.info()"
   ]
  },
  {
   "cell_type": "markdown",
   "metadata": {},
   "source": [
    "The dataset contains 1600000 observations and 6 fields in total. Sentiment and ID are the only numeric fields, whereas the rest are classified into categorical variables.\n",
    "\n",
    "## II. Initial Data Exploration\n",
    "\n",
    "Let's now find out the number of positive, negative, and neutral tweets in our data set. For this purpose, I will use pandas `.value_counts()` method."
   ]
  },
  {
   "cell_type": "code",
   "execution_count": 4,
   "metadata": {
    "scrolled": true
   },
   "outputs": [
    {
     "data": {
      "text/plain": [
       "4    800000\n",
       "0    800000\n",
       "Name: sentiment, dtype: int64"
      ]
     },
     "execution_count": 4,
     "metadata": {},
     "output_type": "execute_result"
    }
   ],
   "source": [
    "count = data['sentiment'].value_counts()\n",
    "count"
   ]
  },
  {
   "cell_type": "markdown",
   "metadata": {},
   "source": [
    "Even though our data set informed us that there is a neutral class (labelled '2'), our exploration indicates that there aren't any neutral tweets. In other words, tweets are split on a 50/50 range, where the raw data have been labelled as negative('0') and postive('4') respectively.\n",
    "\n",
    "Let's visualize our balanced dataset through a countplot."
   ]
  },
  {
   "cell_type": "code",
   "execution_count": 5,
   "metadata": {},
   "outputs": [
    {
     "data": {
      "text/plain": [
       "<matplotlib.axes._subplots.AxesSubplot at 0x7e07bee86320>"
      ]
     },
     "execution_count": 5,
     "metadata": {},
     "output_type": "execute_result"
    },
    {
     "data": {
      "image/png": "[encoded data removed]",
      "text/plain": [
       "<Figure size 432x288 with 1 Axes>"
      ]
     },
     "metadata": {
      "needs_background": "light"
     },
     "output_type": "display_data"
    }
   ],
   "source": [
    "sns.countplot(x='sentiment', data=data)"
   ]
  },
  {
   "cell_type": "markdown",
   "metadata": {},
   "source": [
    "The data does not indicate any missing values, but let's confirm the following:"
   ]
  },
  {
   "cell_type": "code",
   "execution_count": 6,
   "metadata": {},
   "outputs": [
    {
     "data": {
      "text/plain": [
       "tweet        0\n",
       "user         0\n",
       "query        0\n",
       "date         0\n",
       "user_id      0\n",
       "sentiment    0\n",
       "dtype: int64"
      ]
     },
     "execution_count": 6,
     "metadata": {},
     "output_type": "execute_result"
    }
   ],
   "source": [
    "total_null = data.isnull().sum().sort_values(ascending=False)\n",
    "total_null"
   ]
  },
  {
   "cell_type": "code",
   "execution_count": 7,
   "metadata": {},
   "outputs": [
    {
     "data": {
      "text/plain": [
       "sentiment          2\n",
       "user_id      1598315\n",
       "date          774363\n",
       "query              1\n",
       "user          659775\n",
       "tweet        1581466\n",
       "dtype: int64"
      ]
     },
     "execution_count": 7,
     "metadata": {},
     "output_type": "execute_result"
    }
   ],
   "source": [
    "# Finding the unique values in our observations.\n",
    "data.nunique()"
   ]
  },
  {
   "cell_type": "markdown",
   "metadata": {},
   "source": [
    "There are multiple tweets from a wide range of user_ids. User Id's are the unique ID given to each Twitter user. Our dataset shows more user ids than the amount of unique Twitter users. \n",
    "\n",
    "Moreover, it is evident that there is only one query in the 'query' column which is 'No_QUERY'. Let's eliminate this column since it adds to no value to our data.\n",
    "\n",
    "I chose to sample our data to get a clearer insight on our tweet sentiments. "
   ]
  },
  {
   "cell_type": "code",
   "execution_count": 8,
   "metadata": {},
   "outputs": [
    {
     "name": "stdout",
     "output_type": "stream",
     "text": [
      "(200000, 6)\n",
      "(200000, 6)\n"
     ]
    }
   ],
   "source": [
    "# Sampling the subset of our tweet\n",
    "positive_tweet = data[data.sentiment==4].iloc[:200000,:]\n",
    "print(positive_tweet.shape)\n",
    "negative_tweet = data[data.sentiment==0].iloc[:200000,:]\n",
    "print(negative_tweet.shape)"
   ]
  },
  {
   "cell_type": "code",
   "execution_count": 9,
   "metadata": {},
   "outputs": [
    {
     "name": "stdout",
     "output_type": "stream",
     "text": [
      "(400000, 6)\n"
     ]
    },
    {
     "data": {
      "text/html": [
       "<div>\n",
       "<style scoped>\n",
       "    .dataframe tbody tr th:only-of-type {\n",
       "        vertical-align: middle;\n",
       "    }\n",
       "\n",
       "    .dataframe tbody tr th {\n",
       "        vertical-align: top;\n",
       "    }\n",
       "\n",
       "    .dataframe thead th {\n",
       "        text-align: right;\n",
       "    }\n",
       "</style>\n",
       "<table border=\"1\" class=\"dataframe\">\n",
       "  <thead>\n",
       "    <tr style=\"text-align: right;\">\n",
       "      <th></th>\n",
       "      <th>sentiment</th>\n",
       "      <th>user_id</th>\n",
       "      <th>date</th>\n",
       "      <th>query</th>\n",
       "      <th>user</th>\n",
       "      <th>tweet</th>\n",
       "    </tr>\n",
       "  </thead>\n",
       "  <tbody>\n",
       "    <tr>\n",
       "      <td>800000</td>\n",
       "      <td>4</td>\n",
       "      <td>1467822272</td>\n",
       "      <td>Mon Apr 06 22:22:45 PDT 2009</td>\n",
       "      <td>NO_QUERY</td>\n",
       "      <td>ersle</td>\n",
       "      <td>I LOVE @Health4UandPets u guys r the best!!</td>\n",
       "    </tr>\n",
       "    <tr>\n",
       "      <td>800001</td>\n",
       "      <td>4</td>\n",
       "      <td>1467822273</td>\n",
       "      <td>Mon Apr 06 22:22:45 PDT 2009</td>\n",
       "      <td>NO_QUERY</td>\n",
       "      <td>becca210</td>\n",
       "      <td>im meeting up with one of my besties tonight! ...</td>\n",
       "    </tr>\n",
       "    <tr>\n",
       "      <td>800002</td>\n",
       "      <td>4</td>\n",
       "      <td>1467822283</td>\n",
       "      <td>Mon Apr 06 22:22:46 PDT 2009</td>\n",
       "      <td>NO_QUERY</td>\n",
       "      <td>Wingman29</td>\n",
       "      <td>@DaRealSunisaKim Thanks for the Twitter add, S...</td>\n",
       "    </tr>\n",
       "    <tr>\n",
       "      <td>800003</td>\n",
       "      <td>4</td>\n",
       "      <td>1467822287</td>\n",
       "      <td>Mon Apr 06 22:22:46 PDT 2009</td>\n",
       "      <td>NO_QUERY</td>\n",
       "      <td>katarinka</td>\n",
       "      <td>Being sick can be really cheap when it hurts t...</td>\n",
       "    </tr>\n",
       "    <tr>\n",
       "      <td>800004</td>\n",
       "      <td>4</td>\n",
       "      <td>1467822293</td>\n",
       "      <td>Mon Apr 06 22:22:46 PDT 2009</td>\n",
       "      <td>NO_QUERY</td>\n",
       "      <td>_EmilyYoung</td>\n",
       "      <td>@LovesBrooklyn2 he has that effect on everyone</td>\n",
       "    </tr>\n",
       "  </tbody>\n",
       "</table>\n",
       "</div>"
      ],
      "text/plain": [
       "        sentiment     user_id                          date     query  \\\n",
       "800000          4  1467822272  Mon Apr 06 22:22:45 PDT 2009  NO_QUERY   \n",
       "800001          4  1467822273  Mon Apr 06 22:22:45 PDT 2009  NO_QUERY   \n",
       "800002          4  1467822283  Mon Apr 06 22:22:46 PDT 2009  NO_QUERY   \n",
       "800003          4  1467822287  Mon Apr 06 22:22:46 PDT 2009  NO_QUERY   \n",
       "800004          4  1467822293  Mon Apr 06 22:22:46 PDT 2009  NO_QUERY   \n",
       "\n",
       "               user                                              tweet  \n",
       "800000        ersle       I LOVE @Health4UandPets u guys r the best!!   \n",
       "800001     becca210  im meeting up with one of my besties tonight! ...  \n",
       "800002    Wingman29  @DaRealSunisaKim Thanks for the Twitter add, S...  \n",
       "800003    katarinka  Being sick can be really cheap when it hurts t...  \n",
       "800004  _EmilyYoung    @LovesBrooklyn2 he has that effect on everyone   "
      ]
     },
     "execution_count": 9,
     "metadata": {},
     "output_type": "execute_result"
    }
   ],
   "source": [
    "data = pd.concat([positive_tweet,negative_tweet],axis = 0)\n",
    "print(data.shape)\n",
    "data.head()"
   ]
  },
  {
   "cell_type": "code",
   "execution_count": 10,
   "metadata": {},
   "outputs": [
    {
     "data": {
      "text/html": [
       "<div>\n",
       "<style scoped>\n",
       "    .dataframe tbody tr th:only-of-type {\n",
       "        vertical-align: middle;\n",
       "    }\n",
       "\n",
       "    .dataframe tbody tr th {\n",
       "        vertical-align: top;\n",
       "    }\n",
       "\n",
       "    .dataframe thead th {\n",
       "        text-align: right;\n",
       "    }\n",
       "</style>\n",
       "<table border=\"1\" class=\"dataframe\">\n",
       "  <thead>\n",
       "    <tr style=\"text-align: right;\">\n",
       "      <th></th>\n",
       "      <th>sentiment</th>\n",
       "      <th>user_id</th>\n",
       "      <th>date</th>\n",
       "      <th>query</th>\n",
       "      <th>user</th>\n",
       "      <th>tweet</th>\n",
       "      <th>len</th>\n",
       "    </tr>\n",
       "  </thead>\n",
       "  <tbody>\n",
       "    <tr>\n",
       "      <td>800000</td>\n",
       "      <td>4</td>\n",
       "      <td>1467822272</td>\n",
       "      <td>Mon Apr 06 22:22:45 PDT 2009</td>\n",
       "      <td>NO_QUERY</td>\n",
       "      <td>ersle</td>\n",
       "      <td>I LOVE @Health4UandPets u guys r the best!!</td>\n",
       "      <td>44</td>\n",
       "    </tr>\n",
       "    <tr>\n",
       "      <td>800001</td>\n",
       "      <td>4</td>\n",
       "      <td>1467822273</td>\n",
       "      <td>Mon Apr 06 22:22:45 PDT 2009</td>\n",
       "      <td>NO_QUERY</td>\n",
       "      <td>becca210</td>\n",
       "      <td>im meeting up with one of my besties tonight! ...</td>\n",
       "      <td>72</td>\n",
       "    </tr>\n",
       "    <tr>\n",
       "      <td>800002</td>\n",
       "      <td>4</td>\n",
       "      <td>1467822283</td>\n",
       "      <td>Mon Apr 06 22:22:46 PDT 2009</td>\n",
       "      <td>NO_QUERY</td>\n",
       "      <td>Wingman29</td>\n",
       "      <td>@DaRealSunisaKim Thanks for the Twitter add, S...</td>\n",
       "      <td>137</td>\n",
       "    </tr>\n",
       "    <tr>\n",
       "      <td>800003</td>\n",
       "      <td>4</td>\n",
       "      <td>1467822287</td>\n",
       "      <td>Mon Apr 06 22:22:46 PDT 2009</td>\n",
       "      <td>NO_QUERY</td>\n",
       "      <td>katarinka</td>\n",
       "      <td>Being sick can be really cheap when it hurts t...</td>\n",
       "      <td>104</td>\n",
       "    </tr>\n",
       "    <tr>\n",
       "      <td>800004</td>\n",
       "      <td>4</td>\n",
       "      <td>1467822293</td>\n",
       "      <td>Mon Apr 06 22:22:46 PDT 2009</td>\n",
       "      <td>NO_QUERY</td>\n",
       "      <td>_EmilyYoung</td>\n",
       "      <td>@LovesBrooklyn2 he has that effect on everyone</td>\n",
       "      <td>47</td>\n",
       "    </tr>\n",
       "  </tbody>\n",
       "</table>\n",
       "</div>"
      ],
      "text/plain": [
       "        sentiment     user_id                          date     query  \\\n",
       "800000          4  1467822272  Mon Apr 06 22:22:45 PDT 2009  NO_QUERY   \n",
       "800001          4  1467822273  Mon Apr 06 22:22:45 PDT 2009  NO_QUERY   \n",
       "800002          4  1467822283  Mon Apr 06 22:22:46 PDT 2009  NO_QUERY   \n",
       "800003          4  1467822287  Mon Apr 06 22:22:46 PDT 2009  NO_QUERY   \n",
       "800004          4  1467822293  Mon Apr 06 22:22:46 PDT 2009  NO_QUERY   \n",
       "\n",
       "               user                                              tweet  len  \n",
       "800000        ersle       I LOVE @Health4UandPets u guys r the best!!    44  \n",
       "800001     becca210  im meeting up with one of my besties tonight! ...   72  \n",
       "800002    Wingman29  @DaRealSunisaKim Thanks for the Twitter add, S...  137  \n",
       "800003    katarinka  Being sick can be really cheap when it hurts t...  104  \n",
       "800004  _EmilyYoung    @LovesBrooklyn2 he has that effect on everyone    47  "
      ]
     },
     "execution_count": 10,
     "metadata": {},
     "output_type": "execute_result"
    }
   ],
   "source": [
    "# creating a field that indicates the length of our text characters\n",
    "data['len'] = [len(t) for t in data.tweet]\n",
    "data.head()"
   ]
  },
  {
   "cell_type": "markdown",
   "metadata": {},
   "source": [
    "Let's now discover the length of the tweet using a boxplot."
   ]
  },
  {
   "cell_type": "code",
   "execution_count": 11,
   "metadata": {},
   "outputs": [
    {
     "data": {
      "image/png": "[encoded data removed]",
      "text/plain": [
       "<Figure size 360x360 with 1 Axes>"
      ]
     },
     "metadata": {
      "needs_background": "light"
     },
     "output_type": "display_data"
    }
   ],
   "source": [
    "fig, ax = plt.subplots(figsize=(5, 5))\n",
    "plt.boxplot(data['len'])\n",
    "plt.show()"
   ]
  },
  {
   "cell_type": "code",
   "execution_count": 12,
   "metadata": {},
   "outputs": [
    {
     "data": {
      "image/png": "[encoded data removed]",
      "text/plain": [
       "<Figure size 432x288 with 1 Axes>"
      ]
     },
     "metadata": {
      "needs_background": "light"
     },
     "output_type": "display_data"
    }
   ],
   "source": [
    "plt.hist(data[\"len\"])\n",
    "plt.title(\"Histogram of the length of tweets\")\n",
    "plt.show()"
   ]
  },
  {
   "cell_type": "code",
   "execution_count": 13,
   "metadata": {},
   "outputs": [
    {
     "data": {
      "text/plain": [
       "74.216735"
      ]
     },
     "execution_count": 13,
     "metadata": {},
     "output_type": "execute_result"
    }
   ],
   "source": [
    "data['len'].mean()"
   ]
  },
  {
   "cell_type": "markdown",
   "metadata": {},
   "source": [
    "The length of the tweets is skewed to the right with an average of 74 characters. \n",
    "\n",
    "Let's now detect the outliers despite our distribution. I chose to use the Interquartile Range(IQR) method to detect outliers since not all data is normal or normal enough to treat it as being drawn from a Gaussian distribution. The IQR is calculated by taking into account the difference between the 75th and the 25th percentiles of the data and defines the box in a box and whisker plot."
   ]
  },
  {
   "cell_type": "code",
   "execution_count": 14,
   "metadata": {},
   "outputs": [
    {
     "name": "stdout",
     "output_type": "stream",
     "text": [
      "Identified outliers: 0\n"
     ]
    }
   ],
   "source": [
    "# Calculating the IQR using NumPy's percentile() method \n",
    "q75, q25 = np.percentile(data[\"len\"], [75 ,25])\n",
    "iqr = q75 - q25\n",
    "\n",
    "# calculate the outlier cutoff\n",
    "cut_off = iqr * 1.5\n",
    "lower, upper = q25 - cut_off, q75 + cut_off\n",
    "\n",
    "# identify outliers\n",
    "outliers = [x for x in data['len'] if x < lower or x > upper]\n",
    "print('Identified outliers: %d' % len(outliers))"
   ]
  },
  {
   "cell_type": "markdown",
   "metadata": {},
   "source": [
    "Outliers are extreme values that are outside the range of what is expected and unlike the other data. We do not have any outliers in our sample set of data; therefore, we could focus on our new step of cleaning the data."
   ]
  },
  {
   "cell_type": "markdown",
   "metadata": {},
   "source": [
    "## III. Data Preprocessing and Cleaning\n",
    "\n",
    "The raw Twitter text include people's casual opinions in the form of informal language. The tweets above include, punctuations, special characters, user mentions etc. We have also identified outliers in our dataset. These features add noise to our data and should be eliminated before we create our model.\n",
    "\n",
    "Let's now dive into performing the following preprocessing steps prior to building our model. I chose to use the following steps to get rid of the noise in our dataset:\n",
    "\n",
    "- Rename the Postive sentiment as '1'\n",
    "- Drop columns: 'user_id', 'date', 'query'\n",
    "- Convert tweets to lower case\n",
    "- Preprocess the 'tweet' field\n",
    "    - Remove punctuations, numbers, irrelevant characters\n",
    "    - Remove Twitter handles, URLs \n",
    "    - Eliminate White spaces\n",
    "- Tokenization and normalization\n",
    "- Remove stopwords\n",
    "- Lemmatization: Transform words to dictionary base form"
   ]
  },
  {
   "cell_type": "markdown",
   "metadata": {},
   "source": [
    "**1. Renaming the Positive Sentiment Polarity**"
   ]
  },
  {
   "cell_type": "code",
   "execution_count": 15,
   "metadata": {},
   "outputs": [
    {
     "name": "stdout",
     "output_type": "stream",
     "text": [
      "1    200000\n",
      "0    200000\n",
      "Name: sentiment, dtype: int64\n"
     ]
    }
   ],
   "source": [
    "# Casting the positive sentiment to 1\n",
    "data[data.loc[:, 'sentiment'] == 4] = 1\n",
    "\n",
    "# Confirming the above code:\n",
    "print(data['sentiment'].value_counts())"
   ]
  },
  {
   "cell_type": "markdown",
   "metadata": {},
   "source": [
    "**2. Dropping columns**"
   ]
  },
  {
   "cell_type": "code",
   "execution_count": 16,
   "metadata": {},
   "outputs": [],
   "source": [
    "data.drop(['user_id','date','query','user'], axis=1, inplace=True)"
   ]
  },
  {
   "cell_type": "markdown",
   "metadata": {},
   "source": [
    "I chose to drop the above columns so that we could focus more specifically on classifying our text Twitter data along with our sentiments. Moreover, the field 'query' indicates 'no_query' at all instances which means that this feature in a constant. \n",
    "\n",
    "**3. Converting tweets to lower case**"
   ]
  },
  {
   "cell_type": "code",
   "execution_count": 17,
   "metadata": {},
   "outputs": [],
   "source": [
    "# Converting Tweets to lower case\n",
    "data['clean_tweet'] = data['tweet'].apply(lambda x: str(x).lower())"
   ]
  },
  {
   "cell_type": "markdown",
   "metadata": {},
   "source": [
    "**4. Cleaning tweet field**"
   ]
  },
  {
   "cell_type": "code",
   "execution_count": 18,
   "metadata": {},
   "outputs": [
    {
     "data": {
      "text/plain": [
       "'!\"#$%&\\'()*+,-./:;<=>?@[\\\\]^_`{|}~'"
      ]
     },
     "execution_count": 18,
     "metadata": {},
     "output_type": "execute_result"
    }
   ],
   "source": [
    "string.punctuation"
   ]
  },
  {
   "cell_type": "code",
   "execution_count": 19,
   "metadata": {},
   "outputs": [],
   "source": [
    "# Eliminating Puntuations:\n",
    "def remove_punct(tweet):\n",
    "    tweet  = \"\".join([char for char in tweet if char not in string.punctuation])\n",
    "    tweet = re.sub('[0-9]+', '', tweet)\n",
    "    return tweet\n",
    "\n",
    "data['clean_tweet'] = data['clean_tweet'].apply(lambda x: remove_punct(x))"
   ]
  },
  {
   "cell_type": "code",
   "execution_count": 20,
   "metadata": {},
   "outputs": [],
   "source": [
    "# Removing Twitter Handles:\n",
    "data['clean_tweet'] = data['clean_tweet'].str.replace(\"@[\\w]*\", \" \") \n",
    "\n",
    "# Removing URLs\n",
    "data['clean_tweet'] = data['clean_tweet'].replace(re.compile(r\"((www\\.[^\\s]+)|(https?://[^\\s]+))\"), \"\")\n",
    "\n",
    "# Removing numbers, special characters\n",
    "data['clean_tweet'] = data['clean_tweet'].str.replace(\"[^a-zA-Z#]\", \" \") \n",
    "\n",
    "# Removing numbers\n",
    "data['clean_tweet'] = data['clean_tweet'].str.replace('\\d+', '')\n",
    "\n",
    "# Removing whitespaces\n",
    "data['clean_tweet'] = data['clean_tweet'].str.strip()\n",
    "\n",
    "# Removing Single characters\n",
    "data['clean_tweet'] = data['clean_tweet'].replace(re.compile(r\"(^| ).( |$)\"), \" \")"
   ]
  },
  {
   "cell_type": "markdown",
   "metadata": {},
   "source": [
    "**5. Tokenization and Normalization**"
   ]
  },
  {
   "cell_type": "code",
   "execution_count": 21,
   "metadata": {},
   "outputs": [],
   "source": [
    "data['clean_tweet'] = data['clean_tweet'].str.split()"
   ]
  },
  {
   "cell_type": "markdown",
   "metadata": {},
   "source": [
    "**6. Dealing with Stop Words**"
   ]
  },
  {
   "cell_type": "code",
   "execution_count": 22,
   "metadata": {},
   "outputs": [
    {
     "name": "stdout",
     "output_type": "stream",
     "text": [
      "['i', 'me', 'my', 'myself', 'we', 'our', 'ours', 'ourselves', 'you', \"you're\", \"you've\", \"you'll\", \"you'd\", 'your', 'yours', 'yourself', 'yourselves', 'he', 'him', 'his', 'himself', 'she', \"she's\", 'her', 'hers', 'herself', 'it', \"it's\", 'its', 'itself', 'they', 'them', 'their', 'theirs', 'themselves', 'what', 'which', 'who', 'whom', 'this', 'that', \"that'll\", 'these', 'those', 'am', 'is', 'are', 'was', 'were', 'be', 'been', 'being', 'have', 'has', 'had', 'having', 'do', 'does', 'did', 'doing', 'a', 'an', 'the', 'and', 'but', 'if', 'or', 'because', 'as', 'until', 'while', 'of', 'at', 'by', 'for', 'with', 'about', 'against', 'between', 'into', 'through', 'during', 'before', 'after', 'above', 'below', 'to', 'from', 'up', 'down', 'in', 'out', 'on', 'off', 'over', 'under', 'again', 'further', 'then', 'once', 'here', 'there', 'when', 'where', 'why', 'how', 'all', 'any', 'both', 'each', 'few', 'more', 'most', 'other', 'some', 'such', 'no', 'nor', 'not', 'only', 'own', 'same', 'so', 'than', 'too', 'very', 's', 't', 'can', 'will', 'just', 'don', \"don't\", 'should', \"should've\", 'now', 'd', 'll', 'm', 'o', 're', 've', 'y', 'ain', 'aren', \"aren't\", 'couldn', \"couldn't\", 'didn', \"didn't\", 'doesn', \"doesn't\", 'hadn', \"hadn't\", 'hasn', \"hasn't\", 'haven', \"haven't\", 'isn', \"isn't\", 'ma', 'mightn', \"mightn't\", 'mustn', \"mustn't\", 'needn', \"needn't\", 'shan', \"shan't\", 'shouldn', \"shouldn't\", 'wasn', \"wasn't\", 'weren', \"weren't\", 'won', \"won't\", 'wouldn', \"wouldn't\"]\n"
     ]
    },
    {
     "name": "stderr",
     "output_type": "stream",
     "text": [
      "[nltk_data] Downloading package stopwords to\n",
      "[nltk_data]     /home/kaneeshadawood/nltk_data...\n",
      "[nltk_data]   Package stopwords is already up-to-date!\n"
     ]
    }
   ],
   "source": [
    "# Removing Stopwords\n",
    "nltk.download('stopwords')\n",
    "\n",
    "# Here is a list of the stopwords identified by NLTK.\n",
    "\n",
    "print(stopwords.words('english'))"
   ]
  },
  {
   "cell_type": "code",
   "execution_count": 23,
   "metadata": {},
   "outputs": [],
   "source": [
    "# Removing stop words\n",
    "\n",
    "from nltk.corpus import stopwords\n",
    "stop = stopwords.words(\"english\")                \n",
    "\n",
    "data['clean_tweet'] = data['clean_tweet'].apply(lambda x: [word for word in x if word not in stop])"
   ]
  },
  {
   "cell_type": "code",
   "execution_count": 24,
   "metadata": {},
   "outputs": [],
   "source": [
    "# Expanding the tweet\n",
    "def expand_tweet(tweet):\n",
    "        expanded_tweet = []\n",
    "        for word in tweet:\n",
    "            if re.search(\"n't\", word):\n",
    "                expanded_tweet.append(word.split(\"n't\")[0])\n",
    "                expanded_tweet.append(\"not\")\n",
    "            else:\n",
    "                expanded_tweet.append(word)\n",
    "        return expanded_tweet\n",
    "\n",
    "data['clean_tweet'] = data['clean_tweet'].apply(lambda tweet: expand_tweet(tweet))"
   ]
  },
  {
   "cell_type": "markdown",
   "metadata": {},
   "source": [
    "**6. Lemmatization**"
   ]
  },
  {
   "cell_type": "code",
   "execution_count": 25,
   "metadata": {},
   "outputs": [
    {
     "name": "stderr",
     "output_type": "stream",
     "text": [
      "[nltk_data] Downloading package wordnet to\n",
      "[nltk_data]     /home/kaneeshadawood/nltk_data...\n",
      "[nltk_data]   Package wordnet is already up-to-date!\n"
     ]
    },
    {
     "data": {
      "text/plain": [
       "True"
      ]
     },
     "execution_count": 25,
     "metadata": {},
     "output_type": "execute_result"
    }
   ],
   "source": [
    "import nltk\n",
    "nltk.download('wordnet')"
   ]
  },
  {
   "cell_type": "code",
   "execution_count": 26,
   "metadata": {},
   "outputs": [],
   "source": [
    "# lemmatizing\n",
    "from nltk.stem.wordnet import WordNetLemmatizer\n",
    "\n",
    "lemma = nltk.WordNetLemmatizer()\n",
    "\n",
    "data['clean_tweet'] = data['clean_tweet'].apply(lambda tweet: [lemma.lemmatize(word) for word in tweet])"
   ]
  },
  {
   "cell_type": "markdown",
   "metadata": {},
   "source": [
    "**7. Stemming**"
   ]
  },
  {
   "cell_type": "code",
   "execution_count": 27,
   "metadata": {},
   "outputs": [],
   "source": [
    "from nltk.stem import PorterStemmer\n",
    "\n",
    "porterStemmer = PorterStemmer()\n",
    "\n",
    "data['clean_tweet'] = data['clean_tweet'].apply(lambda tweet: [porterStemmer.stem(word) for word in tweet])"
   ]
  },
  {
   "cell_type": "code",
   "execution_count": 28,
   "metadata": {},
   "outputs": [],
   "source": [
    "# combining words to tweets \n",
    "data['clean_tweet'] = data['clean_tweet'].apply(lambda tweet: ' '.join(tweet)) "
   ]
  },
  {
   "cell_type": "markdown",
   "metadata": {},
   "source": [
    "Let's save our clean data to a csv file."
   ]
  },
  {
   "cell_type": "code",
   "execution_count": 29,
   "metadata": {},
   "outputs": [],
   "source": [
    "df = pd.DataFrame(data)\n",
    "\n",
    "df.to_csv('clean_data.csv', index=False)"
   ]
  },
  {
   "cell_type": "markdown",
   "metadata": {},
   "source": [
    "## IV. Exploratory Analysis"
   ]
  },
  {
   "cell_type": "markdown",
   "metadata": {},
   "source": [
    "Now that we our data is preprocessed, let's explore the text one more time to identify the most important features. This will help us understand the most important features we need to build our model."
   ]
  },
  {
   "cell_type": "code",
   "execution_count": 30,
   "metadata": {},
   "outputs": [],
   "source": [
    "positive_tweets = ' '.join(data[data['sentiment'] == 1]['clean_tweet'].str.lower())\n",
    "negative_tweets = ' '.join(data[data['sentiment'] == 0]['clean_tweet'].str.lower())"
   ]
  },
  {
   "cell_type": "code",
   "execution_count": 31,
   "metadata": {},
   "outputs": [
    {
     "data": {
      "image/png": "[encoded data removed]",
      "text/plain": [
       "<Figure size 720x504 with 1 Axes>"
      ]
     },
     "metadata": {
      "needs_background": "light"
     },
     "output_type": "display_data"
    }
   ],
   "source": [
    "# Visualizing our processed data:\n",
    "# Generate a word cloud image\n",
    "all_words = ' '.join([text for text in data['clean_tweet']])\n",
    "\n",
    "from wordcloud import WordCloud \n",
    "wordcloud = WordCloud(width=800, height=500, random_state=21, max_font_size=110).generate(all_words) \n",
    "\n",
    "plt.figure(figsize=(10, 7)) \n",
    "plt.imshow(wordcloud, interpolation=\"bilinear\") \n",
    "plt.axis('off') \n",
    "plt.show()"
   ]
  },
  {
   "cell_type": "code",
   "execution_count": 32,
   "metadata": {},
   "outputs": [
    {
     "data": {
      "image/png": "[encoded data removed]",
      "text/plain": [
       "<Figure size 432x288 with 1 Axes>"
      ]
     },
     "metadata": {},
     "output_type": "display_data"
    }
   ],
   "source": [
    "import matplotlib.pyplot as plt\n",
    "import matplotlib.animation as animation\n",
    "from matplotlib import style\n",
    "%matplotlib inline\n",
    "\n",
    "style.use(\"ggplot\")\n",
    "\n",
    "fig = plt.figure()\n",
    "ax1 = fig.add_subplot(1,1,1)\n",
    "\n",
    "def animate(i):\n",
    "    pullData = open(\"clean_data.csv\",\"r\").read()\n",
    "    lines = pullData.split('\\n')\n",
    "\n",
    "    xar = []\n",
    "    yar = []\n",
    "\n",
    "    x = 1\n",
    "    y = 0\n",
    "\n",
    "    for l in lines[-100:]:\n",
    "        x += 1\n",
    "        if \"pos\" in l:\n",
    "            y += 1\n",
    "        elif \"neg\" in l:\n",
    "            y -= 1\n",
    "\n",
    "        xar.append(x)\n",
    "        yar.append(y)\n",
    "        \n",
    "    ax1.clear()\n",
    "    ax1.plot(xar,yar)\n",
    "ani = animation.FuncAnimation(fig, animate, interval=1000)\n",
    "plt.show()"
   ]
  },
  {
   "cell_type": "code",
   "execution_count": 33,
   "metadata": {},
   "outputs": [
    {
     "data": {
      "image/png": "[encoded data removed]",
      "text/plain": [
       "<Figure size 432x288 with 1 Axes>"
      ]
     },
     "metadata": {},
     "output_type": "display_data"
    }
   ],
   "source": [
    "# Frequency Distribution Plot\n",
    "from nltk.probability import FreqDist\n",
    "\n",
    "fdist = FreqDist(data['clean_tweet'])\n",
    "\n",
    "fdist.plot(4,cumulative=False)\n",
    "plt.show()"
   ]
  },
  {
   "cell_type": "code",
   "execution_count": 34,
   "metadata": {},
   "outputs": [
    {
     "name": "stderr",
     "output_type": "stream",
     "text": [
      "No handles with labels found to put in legend.\n"
     ]
    },
    {
     "data": {
      "text/plain": [
       "<matplotlib.legend.Legend at 0x7e07aa0ae710>"
      ]
     },
     "execution_count": 34,
     "metadata": {},
     "output_type": "execute_result"
    },
    {
     "data": {
      "image/png": "[encoded data removed]",
      "text/plain": [
       "<Figure size 576x288 with 1 Axes>"
      ]
     },
     "metadata": {},
     "output_type": "display_data"
    }
   ],
   "source": [
    "sentiment_count = data['sentiment'].value_counts() # Returned in descending order [1, 0]\n",
    "plt.figure(figsize = (8, 4))\n",
    "plt.xticks([1, 0], ['Positive', 'Negative'])\n",
    "plt.xticks([1, 0])\n",
    "plt.bar(x = sentiment_count.keys(), \n",
    "        height = sentiment_count.values, \n",
    "        color = ['g', 'r']) \n",
    "plt.xlabel(\"Tweet sentiment\")\n",
    "plt.ylabel(\"Tweet count\")\n",
    "plt.title(\"Count of tweets for each sentiment\")\n",
    "plt.legend()"
   ]
  },
  {
   "cell_type": "markdown",
   "metadata": {},
   "source": [
    "**Splitting the data into train and test set**\n",
    "\n",
    "To understand model performance, dividing the dataset into a training set and a test set is a good strategy. Let's define our variables.\n",
    "- y = target variable = `sentiment`\n",
    "- x = features = `tweets`\n",
    "\n",
    "I chose `sentiment` as our target variable because we are trying to extract the positive and negative sentiments from our preprocessed tweets.\n",
    "\n",
    "Next, let's split dataset by using function `train_test_split()`. You need to pass basically 3 parameters features, target, and test_set size. Additionally, I have used random_state to select records randomly. I used Scikit-learn's default split ratio 75:25 to split our data into two sets."
   ]
  },
  {
   "cell_type": "code",
   "execution_count": 35,
   "metadata": {},
   "outputs": [
    {
     "name": "stdout",
     "output_type": "stream",
     "text": [
      "Splitting train and test dataset into 75:25\n",
      "Train data distribution:\n",
      "1    150219\n",
      "0    149781\n",
      "Name: sentiment, dtype: int64\n",
      "Test data distribution:\n",
      "0    50219\n",
      "1    49781\n",
      "Name: sentiment, dtype: int64\n",
      "Split complete\n"
     ]
    }
   ],
   "source": [
    "# Train test split\n",
    "print(\"Splitting train and test dataset into 75:25\") \n",
    "X_train, X_test, y_train, y_test = train_test_split(data['clean_tweet'], data['sentiment'], test_size = 0.25, random_state = 100)\n",
    "train_dataset = pd.DataFrame({\n",
    "    'clean_tweet': X_train,\n",
    "    'sentiment': y_train\n",
    "    })\n",
    "print(\"Train data distribution:\")\n",
    "print(train_dataset['sentiment'].value_counts())\n",
    "test_dataset = pd.DataFrame({\n",
    "    'clean_tweet': X_test,\n",
    "    'sentiment': y_test\n",
    "    })\n",
    "print(\"Test data distribution:\")\n",
    "print(test_dataset['sentiment'].value_counts())\n",
    "print(\"Split complete\") "
   ]
  },
  {
   "cell_type": "code",
   "execution_count": 36,
   "metadata": {},
   "outputs": [
    {
     "name": "stdout",
     "output_type": "stream",
     "text": [
      "Saving train data\n",
      "Train data saved to data/train.csv\n",
      "Saving test data\n",
      "Test data saved to data/test.csv\n"
     ]
    }
   ],
   "source": [
    "# Save train data\n",
    "print(\"Saving train data\")\n",
    "\n",
    "train_data = train_dataset.to_csv('train.csv', index = False)\n",
    "print(\"Train data saved to data/train.csv\")\n",
    "\n",
    "# Save test data\n",
    "print(\"Saving test data\")\n",
    "test_data = test_dataset.to_csv('test.csv', index = False)\n",
    "print(\"Test data saved to data/test.csv\")"
   ]
  },
  {
   "cell_type": "markdown",
   "metadata": {},
   "source": [
    "## IV. Feature Extraction\n",
    "\n",
    "In order to extract features I will use the following methods:\n",
    "\n",
    "- TF-IDF Features\n",
    "- Bag of Words Features\n",
    "\n",
    "I believe that these methods would help us identify the most unique features to build our models."
   ]
  },
  {
   "cell_type": "markdown",
   "metadata": {},
   "source": [
    "**TF-IDF Features**\n",
    "\n",
    "TF-IDF(Term Frequency-Inverse Document Frequency) is a numerical statistic that is intended to reflect the importance of a word in a document from a collection or corpus. As the name implies, this model helps us identify the frequency of the words."
   ]
  },
  {
   "cell_type": "code",
   "execution_count": 37,
   "metadata": {},
   "outputs": [
    {
     "name": "stdout",
     "output_type": "stream",
     "text": [
      "Applying TF-IDF transformation\n"
     ]
    }
   ],
   "source": [
    "from sklearn.feature_extraction.text import TfidfVectorizer\n",
    "\n",
    "print(\"Applying TF-IDF transformation\")\n",
    "tfidfVectorizer = TfidfVectorizer(min_df = 5, max_features = 1000)\n",
    "tfidfVectorizer.fit(train_dataset['clean_tweet'].apply(lambda x: np.str_(x)))\n",
    "train_tweet_vector = tfidfVectorizer.transform(train_dataset['clean_tweet'].apply(lambda x: np.str_(x)))\n",
    "test_tweet_vector = tfidfVectorizer.transform(test_dataset['clean_tweet'].apply(lambda x: np.str_(x)))"
   ]
  },
  {
   "cell_type": "markdown",
   "metadata": {},
   "source": [
    "**Bag of Words**\n",
    "\n",
    "Bag-of-Words is a method that extracts text and represent it into numerical features. The words are converted to the binary form to help us build our intended model. In the bag of words method, the model only consider about whether known words occur in the dataset and not about where in the dataset. "
   ]
  },
  {
   "cell_type": "code",
   "execution_count": 42,
   "metadata": {},
   "outputs": [
    {
     "name": "stdout",
     "output_type": "stream",
     "text": [
      "Applying Bag of Words transformation\n"
     ]
    }
   ],
   "source": [
    "from sklearn.feature_extraction.text import CountVectorizer\n",
    "\n",
    "print(\"Applying Bag of Words transformation\")\n",
    "count_vectorizer = CountVectorizer(min_df = 5, max_features = 1000, stop_words='english') \n",
    "count_vectorizer.fit(train_dataset['clean_tweet'].apply(lambda x: np.str_(x)))\n",
    "train_tweet_vector = count_vectorizer.transform(train_dataset['clean_tweet'].apply(lambda x: np.str_(x)))\n",
    "test_tweet_vector = count_vectorizer.transform(test_dataset['clean_tweet'].apply(lambda x: np.str_(x)))\n",
    "train_tweet_vector = count_vectorizer.transform(train_dataset['clean_tweet'].apply(lambda x: np.str_(x)))\n",
    "test_tweet_vector = count_vectorizer.transform(test_dataset['clean_tweet'].apply(lambda x: np.str_(x))) "
   ]
  },
  {
   "cell_type": "markdown",
   "metadata": {},
   "source": [
    "## V. Modelling\n",
    "\n",
    "Now that we have extracted our features we can build our models using the two feature sets.\n",
    "\n"
   ]
  },
  {
   "cell_type": "markdown",
   "metadata": {},
   "source": [
    "### 1. Building models with TF-IDF features"
   ]
  },
  {
   "cell_type": "markdown",
   "metadata": {},
   "source": [
    "**Random Forest Model**"
   ]
  },
  {
   "cell_type": "code",
   "execution_count": 38,
   "metadata": {},
   "outputs": [
    {
     "name": "stdout",
     "output_type": "stream",
     "text": [
      "Training Random Forest Classifier\n",
      "Predicting the train data\n",
      "Training accuracy: 98.96433333333333%\n",
      "Predicting the test data\n",
      "Testing accuracy: 98.981%\n",
      "Confusion Matrix:\n",
      "[[49200  1019]\n",
      " [    0 49781]]\n",
      "Classification Report\n",
      "              precision    recall  f1-score   support\n",
      "\n",
      "           0       1.00      0.98      0.99     50219\n",
      "           1       0.98      1.00      0.99     49781\n",
      "\n",
      "    accuracy                           0.99    100000\n",
      "   macro avg       0.99      0.99      0.99    100000\n",
      "weighted avg       0.99      0.99      0.99    100000\n",
      "\n"
     ]
    }
   ],
   "source": [
    "# Training\n",
    "print(\"Training Random Forest Classifier\")\n",
    "randomForestClassifier = RandomForestClassifier()\n",
    "randomForestClassifier.fit(train_tweet_vector, train_dataset['sentiment'])\n",
    "\n",
    "# Prediction\n",
    "print(\"Predicting the train data\")\n",
    "prediction = randomForestClassifier.predict(train_tweet_vector)\n",
    "print(\"Training accuracy: {}%\".format(accuracy_score(train_dataset['sentiment'], prediction)*100))\n",
    "\n",
    "print(\"Predicting the test data\")\n",
    "prediction = randomForestClassifier.predict(test_tweet_vector)\n",
    "print(\"Testing accuracy: {}%\".format(accuracy_score(test_dataset['sentiment'], prediction)*100))\n",
    "print(\"Confusion Matrix:\")\n",
    "print(confusion_matrix(test_dataset['sentiment'], prediction))\n",
    "print(\"Classification Report\")\n",
    "print(classification_report(test_dataset['sentiment'], prediction))"
   ]
  },
  {
   "cell_type": "markdown",
   "metadata": {},
   "source": [
    "**Logistic Regression Model**"
   ]
  },
  {
   "cell_type": "markdown",
   "metadata": {},
   "source": [
    "We will use logistic regression to build the models. This predicts the probability of occurrence of an event by fitting data to a logit function.\n",
    "\n",
    "Furthermore, sentiment analysis of Twitter data using Logistic Regression takes tweets as an input and gives sentiment value as an output."
   ]
  },
  {
   "cell_type": "code",
   "execution_count": 39,
   "metadata": {},
   "outputs": [
    {
     "name": "stdout",
     "output_type": "stream",
     "text": [
      "Predicting the train data\n",
      "Training accuracy: 98.75233333333333%\n",
      "Predicting the test data\n",
      "Testing accuracy: 98.744%\n",
      "Confusion Matrix:\n",
      "[[48963  1256]\n",
      " [    0 49781]]\n",
      "Classification Report\n",
      "              precision    recall  f1-score   support\n",
      "\n",
      "           0       1.00      0.97      0.99     50219\n",
      "           1       0.98      1.00      0.99     49781\n",
      "\n",
      "    accuracy                           0.99    100000\n",
      "   macro avg       0.99      0.99      0.99    100000\n",
      "weighted avg       0.99      0.99      0.99    100000\n",
      "\n"
     ]
    }
   ],
   "source": [
    "from sklearn.linear_model import LogisticRegression\n",
    "from sklearn import metrics\n",
    "\n",
    "lr = LogisticRegression()\n",
    "lr.fit(train_tweet_vector, train_dataset['sentiment'])\n",
    "\n",
    "# Prediction\n",
    "print(\"Predicting the train data\")\n",
    "prediction = lr.predict(train_tweet_vector)\n",
    "print(\"Training accuracy: {}%\".format(accuracy_score(train_dataset['sentiment'], prediction)*100))\n",
    "\n",
    "print(\"Predicting the test data\") \n",
    "prediction = lr.predict(test_tweet_vector)\n",
    "print(\"Testing accuracy: {}%\".format(accuracy_score(test_dataset['sentiment'], prediction)*100))\n",
    "print(\"Confusion Matrix:\")\n",
    "print(confusion_matrix(test_dataset['sentiment'], prediction))\n",
    "print(\"Classification Report\")\n",
    "print(classification_report(test_dataset['sentiment'], prediction))"
   ]
  },
  {
   "cell_type": "markdown",
   "metadata": {},
   "source": [
    "**Naive Bayes Model**"
   ]
  },
  {
   "cell_type": "code",
   "execution_count": 40,
   "metadata": {},
   "outputs": [
    {
     "name": "stdout",
     "output_type": "stream",
     "text": [
      "Predicting the train data\n",
      "Training accuracy: 90.30766666666666%\n",
      "Predicting the test data\n",
      "Testing accuracy: 90.273%\n",
      "Confusion Matrix:\n",
      "[[40492  9727]\n",
      " [    0 49781]]\n",
      "Classification Report\n",
      "              precision    recall  f1-score   support\n",
      "\n",
      "           0       1.00      0.81      0.89     50219\n",
      "           1       0.84      1.00      0.91     49781\n",
      "\n",
      "    accuracy                           0.90    100000\n",
      "   macro avg       0.92      0.90      0.90    100000\n",
      "weighted avg       0.92      0.90      0.90    100000\n",
      "\n"
     ]
    }
   ],
   "source": [
    "from sklearn.naive_bayes import MultinomialNB\n",
    "from sklearn import metrics\n",
    "\n",
    "# Model Generation Using Multinomial Naive Bayes\n",
    "MultinomialNB = MultinomialNB()\n",
    "MultinomialNB.fit(train_tweet_vector, train_dataset['sentiment'])\n",
    "\n",
    "# Prediction\n",
    "print(\"Predicting the train data\")\n",
    "prediction = MultinomialNB.predict(train_tweet_vector)\n",
    "print(\"Training accuracy: {}%\".format(accuracy_score(train_dataset['sentiment'], prediction)*100))\n",
    "\n",
    "print(\"Predicting the test data\") \n",
    "prediction = MultinomialNB.predict(test_tweet_vector)\n",
    "print(\"Testing accuracy: {}%\".format(accuracy_score(test_dataset['sentiment'], prediction)*100))\n",
    "print(\"Confusion Matrix:\")\n",
    "print(confusion_matrix(test_dataset['sentiment'], prediction))\n",
    "print(\"Classification Report\")\n",
    "print(classification_report(test_dataset['sentiment'], prediction))"
   ]
  },
  {
   "cell_type": "markdown",
   "metadata": {},
   "source": [
    "**Gradient Boosting**"
   ]
  },
  {
   "cell_type": "code",
   "execution_count": 41,
   "metadata": {},
   "outputs": [
    {
     "name": "stdout",
     "output_type": "stream",
     "text": [
      "Predicting the train data\n",
      "Training accuracy: 86.81133333333332%\n",
      "Predicting the test data\n",
      "Testing accuracy: 86.737%\n",
      "Confusion Matrix:\n",
      "[[36956 13263]\n",
      " [    0 49781]]\n",
      "Classification Report\n",
      "              precision    recall  f1-score   support\n",
      "\n",
      "           0       1.00      0.74      0.85     50219\n",
      "           1       0.79      1.00      0.88     49781\n",
      "\n",
      "    accuracy                           0.87    100000\n",
      "   macro avg       0.89      0.87      0.87    100000\n",
      "weighted avg       0.90      0.87      0.87    100000\n",
      "\n"
     ]
    }
   ],
   "source": [
    "from sklearn.ensemble import GradientBoostingClassifier\n",
    "\n",
    "# Model Generation Using Gradient Boosting\n",
    "GradientBoosting = GradientBoostingClassifier()\n",
    "GradientBoosting.fit(train_tweet_vector, train_dataset['sentiment'])\n",
    "\n",
    "# Prediction\n",
    "print(\"Predicting the train data\")\n",
    "prediction = GradientBoosting.predict(train_tweet_vector)\n",
    "print(\"Training accuracy: {}%\".format(accuracy_score(train_dataset['sentiment'], prediction)*100))\n",
    "\n",
    "print(\"Predicting the test data\") \n",
    "prediction = GradientBoosting.predict(test_tweet_vector)\n",
    "print(\"Testing accuracy: {}%\".format(accuracy_score(test_dataset['sentiment'], prediction)*100))\n",
    "print(\"Confusion Matrix:\")\n",
    "print(confusion_matrix(test_dataset['sentiment'], prediction))\n",
    "print(\"Classification Report\")\n",
    "print(classification_report(test_dataset['sentiment'], prediction))"
   ]
  },
  {
   "cell_type": "markdown",
   "metadata": {},
   "source": [
    "### 2. Building models with Bag of Words features"
   ]
  },
  {
   "cell_type": "markdown",
   "metadata": {},
   "source": [
    "**Random Forest Model**"
   ]
  },
  {
   "cell_type": "code",
   "execution_count": 43,
   "metadata": {},
   "outputs": [
    {
     "name": "stdout",
     "output_type": "stream",
     "text": [
      "Training Random Forest Classifier\n",
      "Predicting on train data\n",
      "Training accuracy: 98.62633333333333%\n",
      "Predicting on test data\n",
      "Testing accuracy: 98.63%\n",
      "Confusion Matrix:\n",
      "[[48849  1370]\n",
      " [    0 49781]]\n",
      "Classification Report\n",
      "              precision    recall  f1-score   support\n",
      "\n",
      "           0       1.00      0.97      0.99     50219\n",
      "           1       0.97      1.00      0.99     49781\n",
      "\n",
      "    accuracy                           0.99    100000\n",
      "   macro avg       0.99      0.99      0.99    100000\n",
      "weighted avg       0.99      0.99      0.99    100000\n",
      "\n"
     ]
    }
   ],
   "source": [
    "# Training\n",
    "print(\"Training Random Forest Classifier\")\n",
    "randomForestClassifier = RandomForestClassifier()\n",
    "randomForestClassifier.fit(train_tweet_vector, train_dataset['sentiment'])\n",
    "\n",
    "# Prediction\n",
    "print(\"Predicting the train data\")\n",
    "prediction = randomForestClassifier.predict(train_tweet_vector)\n",
    "print(\"Training accuracy: {}%\".format(accuracy_score(train_dataset['sentiment'], prediction)*100))\n",
    "\n",
    "print(\"Predicting the test data\")\n",
    "prediction = randomForestClassifier.predict(test_tweet_vector)\n",
    "print(\"Testing accuracy: {}%\".format(accuracy_score(test_dataset['sentiment'], prediction)*100))\n",
    "print(\"Confusion Matrix:\")\n",
    "print(confusion_matrix(test_dataset['sentiment'], prediction))\n",
    "print(\"Classification Report\")\n",
    "print(classification_report(test_dataset['sentiment'], prediction))"
   ]
  },
  {
   "cell_type": "markdown",
   "metadata": {},
   "source": [
    "**Logistic Regression Model**"
   ]
  },
  {
   "cell_type": "code",
   "execution_count": 44,
   "metadata": {},
   "outputs": [
    {
     "name": "stdout",
     "output_type": "stream",
     "text": [
      "Predicting on train data\n",
      "Training accuracy: 98.20400000000001%\n",
      "Predicting on test data\n",
      "Testing accuracy: 98.129%\n",
      "Confusion Matrix:\n",
      "[[48348  1871]\n",
      " [    0 49781]]\n",
      "Classification Report\n",
      "              precision    recall  f1-score   support\n",
      "\n",
      "           0       1.00      0.96      0.98     50219\n",
      "           1       0.96      1.00      0.98     49781\n",
      "\n",
      "    accuracy                           0.98    100000\n",
      "   macro avg       0.98      0.98      0.98    100000\n",
      "weighted avg       0.98      0.98      0.98    100000\n",
      "\n"
     ]
    }
   ],
   "source": [
    "from sklearn.linear_model import LogisticRegression\n",
    "from sklearn import metrics\n",
    "\n",
    "lr = LogisticRegression()\n",
    "lr.fit(train_tweet_vector, train_dataset['sentiment'])\n",
    "\n",
    "# Prediction\n",
    "print(\"Predicting the train data\")\n",
    "prediction = lr.predict(train_tweet_vector)\n",
    "print(\"Training accuracy: {}%\".format(accuracy_score(train_dataset['sentiment'], prediction)*100))\n",
    "\n",
    "print(\"Predicting the test data\") \n",
    "prediction = lr.predict(test_tweet_vector)\n",
    "print(\"Testing accuracy: {}%\".format(accuracy_score(test_dataset['sentiment'], prediction)*100))\n",
    "print(\"Confusion Matrix:\")\n",
    "print(confusion_matrix(test_dataset['sentiment'], prediction))\n",
    "print(\"Classification Report\")\n",
    "print(classification_report(test_dataset['sentiment'], prediction))"
   ]
  },
  {
   "cell_type": "markdown",
   "metadata": {},
   "source": [
    "**Naive Bayes**"
   ]
  },
  {
   "cell_type": "code",
   "execution_count": 46,
   "metadata": {},
   "outputs": [
    {
     "name": "stdout",
     "output_type": "stream",
     "text": [
      "Predicting the train data\n",
      "Training accuracy: 90.79633333333334%\n",
      "Predicting the test data\n",
      "Testing accuracy: 90.782%\n",
      "Confusion Matrix:\n",
      "[[41001  9218]\n",
      " [    0 49781]]\n",
      "Classification Report\n",
      "              precision    recall  f1-score   support\n",
      "\n",
      "           0       1.00      0.82      0.90     50219\n",
      "           1       0.84      1.00      0.92     49781\n",
      "\n",
      "    accuracy                           0.91    100000\n",
      "   macro avg       0.92      0.91      0.91    100000\n",
      "weighted avg       0.92      0.91      0.91    100000\n",
      "\n"
     ]
    }
   ],
   "source": [
    "from sklearn.naive_bayes import MultinomialNB\n",
    "from sklearn import metrics\n",
    "\n",
    "# Model Generation Using Multinomial Naive Bayes\n",
    "MultinomialNB = MultinomialNB()\n",
    "MultinomialNB.fit(train_tweet_vector, train_dataset['sentiment'])\n",
    "\n",
    "# Prediction\n",
    "print(\"Predicting the train data\")\n",
    "prediction = MultinomialNB.predict(train_tweet_vector)\n",
    "print(\"Training accuracy: {}%\".format(accuracy_score(train_dataset['sentiment'], prediction)*100))\n",
    "\n",
    "print(\"Predicting the test data\") \n",
    "prediction = MultinomialNB.predict(test_tweet_vector)\n",
    "print(\"Testing accuracy: {}%\".format(accuracy_score(test_dataset['sentiment'], prediction)*100))\n",
    "print(\"Confusion Matrix:\")\n",
    "print(confusion_matrix(test_dataset['sentiment'], prediction))\n",
    "print(\"Classification Report\")\n",
    "print(classification_report(test_dataset['sentiment'], prediction))"
   ]
  },
  {
   "cell_type": "markdown",
   "metadata": {},
   "source": [
    "**Gradient Boosting**"
   ]
  },
  {
   "cell_type": "code",
   "execution_count": 47,
   "metadata": {},
   "outputs": [
    {
     "name": "stdout",
     "output_type": "stream",
     "text": [
      "Predicting the train data\n",
      "Training accuracy: 86.45333333333333%\n",
      "Predicting the test data\n",
      "Testing accuracy: 86.399%\n",
      "Confusion Matrix:\n",
      "[[36618 13601]\n",
      " [    0 49781]]\n",
      "Classification Report\n",
      "              precision    recall  f1-score   support\n",
      "\n",
      "           0       1.00      0.73      0.84     50219\n",
      "           1       0.79      1.00      0.88     49781\n",
      "\n",
      "    accuracy                           0.86    100000\n",
      "   macro avg       0.89      0.86      0.86    100000\n",
      "weighted avg       0.89      0.86      0.86    100000\n",
      "\n"
     ]
    }
   ],
   "source": [
    "from sklearn.ensemble import GradientBoostingClassifier\n",
    "\n",
    "# Model Generation Using Gradient Boosting\n",
    "GradientBoosting = GradientBoostingClassifier()\n",
    "GradientBoosting.fit(train_tweet_vector, train_dataset['sentiment'])\n",
    "\n",
    "# Prediction\n",
    "print(\"Predicting the train data\")\n",
    "prediction = GradientBoosting.predict(train_tweet_vector)\n",
    "print(\"Training accuracy: {}%\".format(accuracy_score(train_dataset['sentiment'], prediction)*100))\n",
    "\n",
    "print(\"Predicting the test data\") \n",
    "prediction = GradientBoosting.predict(test_tweet_vector)\n",
    "print(\"Testing accuracy: {}%\".format(accuracy_score(test_dataset['sentiment'], prediction)*100))\n",
    "print(\"Confusion Matrix:\")\n",
    "print(confusion_matrix(test_dataset['sentiment'], prediction))\n",
    "print(\"Classification Report\")\n",
    "print(classification_report(test_dataset['sentiment'], prediction))"
   ]
  },
  {
   "cell_type": "markdown",
   "metadata": {},
   "source": [
    "## VI. Evaluation"
   ]
  },
  {
   "cell_type": "markdown",
   "metadata": {},
   "source": [
    "I built models using two feature extraction techniques (TF-IDF and Bag-of-words) to analyze their predictability in both training and testing sets. I chose Random Forest, Logistic Regression, Naive Bayes, and Gradient Boosting to help us determine the most appropriate model for our Twitter sentiments. \n",
    "\n",
    "I have used the following metrics to get a sense of our models:\n",
    "\n",
    "- Accuracy Score: The functions that compute the count of correct predictions. The Random Forest model performed well with both Bag-of-Words and TF-IDF feature extraction methods. I received a training and testing accuracy score of 98.98% for the Random Forest method using TF-IDF features.  \n",
    "\n",
    "- Confusion Matrix: A table used to describe the classifier on a set of test data for which the true values are known. It depicts the Actual Values against the Predicted values. The classier further explains the performance of a classification model. We received 49200 and 48963 `True Positives` for the Random Forest and Logistic Regression models respectively. This implies that we have a relatively high outcome where the model correctly predicts the positive class.\n",
    "\n",
    "- Classification Report: Measures the quality of our predictions through a classification algorithm through Precision and Recall. Precision indicates how well our model predicts whereas, Recall indicates if our model predicts poorly. We received a higher precision rate for all of the models (1.0) in most instances.\n",
    "\n",
    "Overall, the best classifier in predicting the Twitter sentiment is the Random Forest Model."
   ]
  },
  {
   "cell_type": "markdown",
   "metadata": {},
   "source": [
    "## VII. Conclusion & Future Work\n",
    "\n",
    "The goal in this project is to detect the positive words(tweets) and the negative words(tweets) from a dataset which included 1.6M entries. I chose a sample of 200000 from both positive and negative sentiments to analyze the most frequent words. I applied Natural language processing techniques to preprocess our text data. The clean data is split into two sets; the training and testing set respectively. I chose two methods to extract the features from our `clean_tweets`. Models were then built to analyze their performance. \n",
    "\n",
    "Overall, I received a 98% accuracy score for the Random Forest Classifier. This means that the Random Forest algorithm captures both positive and negative words from our Twitter data and predicts the outcome of our future Twitter sentiments. Since the Random Forest model operates by constructing multiple decision trees; this classifier is more compatible in classifying our Twitter sentiments.\n",
    "\n",
    "\n",
    "- I plan on using more advanced NLP techniques to classify our Twitter data. \n",
    "- I chose a sample of 200000 for both positive and negative tweets. I intend on increasing the sample size and analyzing the impact of their results on our models in future. \n",
    "- I plan on further analyzing the performance of our model through various other classifiers. I will then use advanced visualization techniques to evaluate the model's predictions."
   ]
  },
  {
   "cell_type": "markdown",
   "metadata": {},
   "source": [
    "## Resources:\n",
    "\n",
    "- [The dataset](https://www.kaggle.com/kazanova/sentiment140)\n",
    "- [Scikit-learn machine learning libararies](https://scikit-learn.org/stable/supervised_learning.html#supervised-learning)\n",
    "- [Natural Language Toolkit](https://www.nltk.org/)"
   ]
  },
  {
   "cell_type": "code",
   "execution_count": null,
   "metadata": {},
   "outputs": [],
   "source": []
  }
 ],
 "metadata": {
  "kernelspec": {
   "display_name": "Python 3",
   "language": "python",
   "name": "python3"
  },
  "language_info": {
   "codemirror_mode": {
    "name": "ipython",
    "version": 3
   },
   "file_extension": ".py",
   "mimetype": "text/x-python",
   "name": "python",
   "nbconvert_exporter": "python",
   "pygments_lexer": "ipython3",
   "version": "3.5.3"
  }
 },
 "nbformat": 4,
 "nbformat_minor": 2
}
